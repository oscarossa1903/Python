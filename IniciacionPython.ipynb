{
 "cells": [
  {
   "cell_type": "markdown",
   "metadata": {},
   "source": [
    "## Hola Mundo!\n",
    "\n",
    "Como es debido en todo lenguaje de programación, empezaremos con el \"Hola Mundo\". Solo es cuestión de utilizar la función **\"print()\"** la cual espera a una lista de caracteres como argumento"
   ]
  },
  {
   "cell_type": "code",
   "execution_count": 9,
   "metadata": {},
   "outputs": [
    {
     "name": "stdout",
     "output_type": "stream",
     "text": [
      "Hola Mundo\n"
     ]
    }
   ],
   "source": [
    "print(\"Hola Mundo\")"
   ]
  },
  {
   "cell_type": "markdown",
   "metadata": {},
   "source": [
    "También, es usual guardar el valor de la lista de caracteres en un variable (por ejemplo la variable **a**). Entonces:"
   ]
  },
  {
   "cell_type": "code",
   "execution_count": 13,
   "metadata": {},
   "outputs": [
    {
     "name": "stdout",
     "output_type": "stream",
     "text": [
      "Hola mundo\n"
     ]
    }
   ],
   "source": [
    "a=\"Hola mundo\"\n",
    "print(a)"
   ]
  },
  {
   "cell_type": "markdown",
   "metadata": {},
   "source": [
    "Miremos cómo se concatena (une) listas de caracteres:"
   ]
  },
  {
   "cell_type": "code",
   "execution_count": 12,
   "metadata": {},
   "outputs": [
    {
     "name": "stdout",
     "output_type": "stream",
     "text": [
      "Hola Mundo\n"
     ]
    }
   ],
   "source": [
    "a=\"Hola\"\n",
    "print(a,\"Mundo\")"
   ]
  },
  {
   "cell_type": "markdown",
   "metadata": {},
   "source": [
    "## Asignaciones Multiples\n",
    "\n",
    "En una sola sentencia se puede asignar los valores a multiples variables"
   ]
  },
  {
   "cell_type": "code",
   "execution_count": 37,
   "metadata": {},
   "outputs": [
    {
     "name": "stdout",
     "output_type": "stream",
     "text": [
      "5G\n"
     ]
    }
   ],
   "source": [
    "a=b=c=30\n",
    "a,b,c=1,2,\"5G\"\n",
    "print(c)\n"
   ]
  },
  {
   "cell_type": "markdown",
   "metadata": {},
   "source": [
    "## Tipos de datos estandar\n",
    "Es la forma en que los datos se almacenan en la memoria.\n",
    "\n",
    "Python tiene 5 tipos de datos estandar:\n",
    "\n",
    "    Numbers\n",
    "    String\n",
    "    List\n",
    "    Tuple\n",
    "    Dictionary\n",
    "\n"
   ]
  },
  {
   "cell_type": "markdown",
   "metadata": {},
   "source": [
    "### Numeros  \n",
    "\n",
    "Python soporta tres tipos diferentes de números\n",
    "\n",
    "    int (signed integers)\n",
    "    float (floating point real values)\n",
    "    complex (complex numbers)\n",
    " \n",
    "\n",
    "Para definir estos tipos de datos se utiliza las funciones: Enteros $int()$, entero extenso $long()$ solo en python 2, punto flotante $float()$, complejo $complex()$\n",
    "    \n",
    "  \n",
    "| int (Enteros)       | (Punto flotante) float           | Complejo (complex) |\n",
    "| --------------------|:---------------------------------:| -----:|\n",
    "| 10                  | 0.0                               | 3.14j |\n",
    "| 100                 | 15.20                             | 1 + 50j |\n",
    "| -0x260              | 70.2E-12                          | 0.2 -30j |"
   ]
  },
  {
   "cell_type": "markdown",
   "metadata": {},
   "source": [
    "Se puede utilizar las anteriores funciones para realizar una converisón al tipo requerido. Para esto se debe utilizar el prefijo $\"0x\"$ Miremos un ejemplo:"
   ]
  },
  {
   "cell_type": "code",
   "execution_count": 43,
   "metadata": {},
   "outputs": [
    {
     "name": "stdout",
     "output_type": "stream",
     "text": [
      "10\n",
      "10.0\n",
      "(4+0.2j)\n"
     ]
    }
   ],
   "source": [
    "var1 = 1\n",
    "var2 = 10\n",
    "\n",
    "a=int(10)\n",
    "b=float(10)\n",
    "c=complex(4,.2)\n",
    "\n",
    "print(a)\n",
    "print(b)\n",
    "print(c)"
   ]
  },
  {
   "cell_type": "markdown",
   "metadata": {},
   "source": [
    "## Python Strings\n",
    "Hace refrencia a una lista de caracteres uno en seguida del otro"
   ]
  },
  {
   "cell_type": "code",
   "execution_count": 45,
   "metadata": {},
   "outputs": [
    {
     "name": "stdout",
     "output_type": "stream",
     "text": [
      "Hello World!\n",
      "H\n",
      "llo\n",
      "llo World!\n",
      "Hello World!Hello World!\n",
      "Hello World!TEST\n"
     ]
    }
   ],
   "source": [
    "#!/usr/bin/python3\n",
    "\n",
    "str = 'Hello World!'\n",
    "\n",
    "print (str)          # Prints complete string\n",
    "print (str[0])       # Prints first character of the string\n",
    "print (str[2:5])     # Prints characters starting from 3rd to 5th\n",
    "print (str[2:])      # Prints string starting from 3rd character\n",
    "print (str * 2)      # Prints string two times\n",
    "print (str + \"TEST\") # Prints concatenated string"
   ]
  },
  {
   "cell_type": "markdown",
   "metadata": {},
   "source": [
    "## Listas\n",
    "Las listas contienen item separados por comas y encerrados entre llaves cuadradas **[]**. Una de las características principales de las listas es que los elementos que esta contiene pueden ser de diferente tipo de dato. \n",
    "\n",
    "Se puede acceder a los valores que las lisltas contienen por medio del operado corchete **slice**  ([] y [:]) la indexación comnezando en $0$."
   ]
  },
  {
   "cell_type": "code",
   "execution_count": 1,
   "metadata": {},
   "outputs": [
    {
     "name": "stdout",
     "output_type": "stream",
     "text": [
      "['abcd', 786, 2.23, 'john', 70.2]\n",
      "abcd\n",
      "[786, 2.23]\n",
      "[2.23, 'john', 70.2]\n",
      "[123, 'john', 123, 'john']\n",
      "['abcd', 786, 2.23, 'john', 70.2, 123, 'john']\n"
     ]
    }
   ],
   "source": [
    "#!/usr/bin/python3\n",
    "\n",
    "list = [ 'abcd', 786 , 2.23, 'john', 70.2 ]\n",
    "tinylist = [123, 'john']\n",
    "\n",
    "print (list)          # Prints complete list\n",
    "print (list[0])       # Prints first element of the list\n",
    "print (list[1:3])     # Prints elements starting from 2nd till 3rd \n",
    "print (list[2:])      # Prints elements starting from 3rd element\n",
    "print (tinylist * 2)  # Prints list two times\n",
    "print (list + tinylist) # Prints concatenated lists"
   ]
  },
  {
   "cell_type": "markdown",
   "metadata": {},
   "source": [
    "## Tuples (Tuplas)\n",
    "Consiste de valores separados por comas y, a diferencia de las listas, estos son cerrados por parentesis.\n",
    "Unas de las diferencias de las listas y Tuplas, es que las Tuplas no pueden cambiar su tamaño, es decir, no se puede actualizar su valor. Se puede pensar en utilizar las Tuplas cuando se quiera tener una lista que sea solo de tipo lectura. "
   ]
  },
  {
   "cell_type": "code",
   "execution_count": 2,
   "metadata": {},
   "outputs": [
    {
     "name": "stdout",
     "output_type": "stream",
     "text": [
      "('abcd', 786, 2.23, 'john', 70.2)\n",
      "abcd\n",
      "(786, 2.23)\n",
      "(2.23, 'john', 70.2)\n",
      "(123, 'john', 123, 'john')\n",
      "('abcd', 786, 2.23, 'john', 70.2, 123, 'john')\n"
     ]
    }
   ],
   "source": [
    "#!/usr/bin/python3\n",
    "\n",
    "tuple = ( 'abcd', 786 , 2.23, 'john', 70.2  )\n",
    "tinytuple = (123, 'john')\n",
    "\n",
    "print (tuple)           # Prints complete tuple\n",
    "print (tuple[0])        # Prints first element of the tuple\n",
    "print (tuple[1:3])      # Prints elements starting from 2nd till 3rd \n",
    "print (tuple[2:])       # Prints elements starting from 3rd element\n",
    "print (tinytuple * 2)   # Prints tuple two times\n",
    "print (tuple + tinytuple) # Prints concatenated tuple"
   ]
  },
  {
   "cell_type": "markdown",
   "metadata": {},
   "source": [
    "## Diccionarios\n",
    "Un diccionario se puede pensar como una tabla de elementos que puede contener datos de cualquier tipo. Sin embargo, la mayoria de los diccionarios trabajan con datos tipo numero y strings. Los diccionarios se cierran con llaves **{}** y pueden ser conultados con corchete**([])**"
   ]
  },
  {
   "cell_type": "code",
   "execution_count": 49,
   "metadata": {},
   "outputs": [
    {
     "name": "stdout",
     "output_type": "stream",
     "text": [
      "This is one\n",
      "This is two\n",
      "{'name': 'john', 'code': 6734, 'dept': 'sales'}\n",
      "dict_keys(['name', 'code', 'dept'])\n",
      "dict_values(['john', 6734, 'sales'])\n"
     ]
    }
   ],
   "source": [
    "#!/usr/bin/python3\n",
    "\n",
    "dict = {}\n",
    "dict['one'] = \"This is one\"\n",
    "dict[2]     = \"This is two\"\n",
    "\n",
    "tinydict = {'name': 'john','code':6734, 'dept': 'sales'}\n",
    "\n",
    "print (dict['one'])       # Prints value for 'one' key\n",
    "print (dict[2])           # Prints value for 2 key\n",
    "print (tinydict)          # Prints complete dictionary\n",
    "print (tinydict.keys())   # Prints all the keys\n",
    "print (tinydict.values()) # Prints all the values"
   ]
  },
  {
   "cell_type": "markdown",
   "metadata": {},
   "source": [
    "## Funciones conversoras de tipos de datos\n",
    "\n",
    "|**Nombre de Función**  |**Descripción**| \n",
    "|-------------------|-----------|\n",
    "|int(x)                     | convierte x en un entero                      |\n",
    "|float(x)                   | convierte x en un número punto flotante       |\n",
    "|complex(real,imag)         | crea un número complejo                       |\n",
    "|srt(x)                     | Convierte x en una representación tipo string |\n",
    "|chr(x)                     | convierte a x en un caracter                  |\n",
    "|hex(x)                     | convierte a x en un valor numérico hexadecimal|\n",
    "|oct(x)                     | convierte a x en un valor numérico octal      |"
   ]
  },
  {
   "cell_type": "code",
   "execution_count": 30,
   "metadata": {},
   "outputs": [
    {
     "name": "stdout",
     "output_type": "stream",
     "text": [
      "65535 65535.0 (65535+0j)\n"
     ]
    }
   ],
   "source": [
    "HexNum=0xFFFF\n",
    "print(int(HexNum),float(HexNum),complex(HexNum))"
   ]
  },
  {
   "cell_type": "markdown",
   "metadata": {},
   "source": [
    "# Ejemplos Adicionales"
   ]
  },
  {
   "cell_type": "markdown",
   "metadata": {},
   "source": [
    "Ejercicio 1: Entrada de datos"
   ]
  },
  {
   "cell_type": "code",
   "execution_count": 2,
   "metadata": {},
   "outputs": [
    {
     "name": "stdout",
     "output_type": "stream",
     "text": [
      "Ingrese el Número:10\n",
      "Mul:  30 Div:  3.3333333333333335 Raiz:  1.7320508075688772\n"
     ]
    }
   ],
   "source": [
    "# -*- coding: utf-8 -*-\n",
    "import math\n",
    "\n",
    "num=int(input('Ingrese el Número:'))\n",
    "mul=num*3\n",
    "div=num/3\n",
    "raiz=math.sqrt(3)\n",
    "raiz= 3**0.5  # Esto es un comentario\n",
    "print('Mul: ',mul,'Div: ',div,'Raiz: ',raiz);\n"
   ]
  },
  {
   "cell_type": "markdown",
   "metadata": {},
   "source": [
    "Ejercicio 2: Condicionales if y operadores relacionales"
   ]
  },
  {
   "cell_type": "code",
   "execution_count": 7,
   "metadata": {},
   "outputs": [
    {
     "name": "stdout",
     "output_type": "stream",
     "text": [
      "ingresa un número entero (positivo o negativo): -5\n",
      "El número ingresado fue -5  y ahora ha sido cambiado por su positivo 5\n"
     ]
    }
   ],
   "source": [
    "##Ejercicio 2 (if --- else)\n",
    "x=int(input('ingresa un número entero (positivo o negativo): '))\n",
    "\n",
    "if x<0:\n",
    "    x=x*-1\n",
    "    print ('El número ingresado fue',-1*x,' y ahora ha sido cambiado por su positivo',x)\n",
    "elif x==0:\n",
    "    print (x,'Es una cantidad nula')\n",
    "elif x>0:\n",
    "    print (x,'Es un positivo mayor que cero')\n",
    "else:\n",
    "    print (x,'Sigue tu')\n"
   ]
  },
  {
   "cell_type": "markdown",
   "metadata": {},
   "source": [
    "Ejercio 3: Bucle For\n",
    "\n",
    "Revise el algorítmo usado para imprimir en pantalla los número primeros hasta el número deseado"
   ]
  },
  {
   "cell_type": "code",
   "execution_count": 46,
   "metadata": {},
   "outputs": [
    {
     "name": "stdout",
     "output_type": "stream",
     "text": [
      "ingrese numero entero:21\n",
      "2 es un número primo\n",
      "3 es un número primo\n",
      "5 es un número primo\n",
      "7 es un número primo\n",
      "11 es un número primo\n",
      "13 es un número primo\n",
      "17 es un número primo\n",
      "19 es un número primo\n"
     ]
    }
   ],
   "source": [
    "num=int(input('ingrese numero entero:'))\n",
    "for n in range(2,num+1):\n",
    "    for x in range(2,n+1):\n",
    "        if (n%x==0):\n",
    "            div=div+1\n",
    "    if(div==1):\n",
    "        print(n, 'es un número primo')  \n",
    "        \n",
    "    div=0\n",
    "               "
   ]
  },
  {
   "cell_type": "markdown",
   "metadata": {},
   "source": [
    "Ejemplo 4: Ciclo While"
   ]
  },
  {
   "cell_type": "code",
   "execution_count": 49,
   "metadata": {},
   "outputs": [
    {
     "name": "stdout",
     "output_type": "stream",
     "text": [
      "ingrese numero entero:30\n",
      "el contador es:  0\n",
      "el contador es:  1\n",
      "el contador es:  2\n",
      "el contador es:  3\n",
      "el contador es:  4\n",
      "el contador es:  5\n",
      "el contador es:  6\n",
      "el contador es:  7\n",
      "el contador es:  8\n",
      "el contador es:  9\n",
      "el contador es:  10\n",
      "el contador es:  11\n",
      "el contador es:  12\n",
      "el contador es:  13\n",
      "el contador es:  14\n",
      "el contador es:  15\n",
      "el contador es:  16\n",
      "el contador es:  17\n",
      "el contador es:  18\n",
      "el contador es:  19\n",
      "el contador es:  20\n",
      "el contador es:  21\n",
      "el contador es:  22\n",
      "el contador es:  23\n",
      "el contador es:  24\n",
      "el contador es:  25\n",
      "el contador es:  26\n",
      "el contador es:  27\n",
      "el contador es:  28\n",
      "el contador es:  29\n",
      "el contador es:  30\n",
      "El conteo termino\n"
     ]
    }
   ],
   "source": [
    "count =0\n",
    "Nmax=int(input('ingrese numero entero:'))\n",
    "while (count<=Nmax):\n",
    "    print('el contador es: ',count)\n",
    "    count = count +1\n",
    "print ('El conteo termino')"
   ]
  }
 ],
 "metadata": {
  "kernelspec": {
   "display_name": "Python 3",
   "language": "python",
   "name": "python3"
  },
  "language_info": {
   "codemirror_mode": {
    "name": "ipython",
    "version": 3
   },
   "file_extension": ".py",
   "mimetype": "text/x-python",
   "name": "python",
   "nbconvert_exporter": "python",
   "pygments_lexer": "ipython3",
   "version": "3.8.3"
  }
 },
 "nbformat": 4,
 "nbformat_minor": 4
}
