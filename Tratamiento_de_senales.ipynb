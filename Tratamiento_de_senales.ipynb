{
 "cells": [
  {
   "cell_type": "markdown",
   "metadata": {},
   "source": [
    "# Librerias de frecuente uso "
   ]
  },
  {
   "cell_type": "code",
   "execution_count": 1,
   "metadata": {},
   "outputs": [],
   "source": [
    "%matplotlib notebook\n",
    "import matplotlib.pyplot as plt\n",
    "import numpy as np\n",
    "from numpy import pi\n",
    "import scipy.fftpack as fourier\n"
   ]
  },
  {
   "cell_type": "markdown",
   "metadata": {},
   "source": [
    "# Manejo de señales"
   ]
  },
  {
   "cell_type": "code",
   "execution_count": null,
   "metadata": {},
   "outputs": [],
   "source": [
    "u = lambda t: np.piecewise(t,t>=0,[1,0])"
   ]
  },
  {
   "cell_type": "markdown",
   "metadata": {},
   "source": [
    "## señales utiles\n",
    "\n",
    "1. Señal pulse rectangular"
   ]
  },
  {
   "cell_type": "code",
   "execution_count": null,
   "metadata": {},
   "outputs": [],
   "source": [
    "#1#\n",
    "a = -6\n",
    "b = 6\n",
    "dt=0.001\n",
    "t = np.arange(a, b, dt)\n",
    "u0 = u(t-2)\n",
    "u1 = u(t-4)\n",
    "\n",
    "plt.figure()\n",
    "plt.subplot(311)\n",
    "plt.plot(t,u0, label='u(t-2)')\n",
    "plt.legend(loc=0)\n",
    "plt.subplot(312)\n",
    "plt.plot(t,-u1, label='-u(t-4)')\n",
    "plt.legend(loc=0)\n",
    "plt.subplot(313)\n",
    "plt.plot(t,(u0-u1),label='u(t-2)+(-u(t-4))')\n",
    "plt.xlabel('t (s)')\n",
    "plt.legend(loc=0)\n",
    "plt.margins(dt)\n",
    "plt.grid()\n",
    "plt.show()\n",
    "\n"
   ]
  },
  {
   "cell_type": "markdown",
   "metadata": {},
   "source": [
    "2. Señal rampa"
   ]
  },
  {
   "cell_type": "code",
   "execution_count": null,
   "metadata": {},
   "outputs": [],
   "source": [
    "\n",
    "#2#\n",
    "a = -3\n",
    "b = 3\n",
    "t = np.arange(a, b, dt)\n",
    "u0 = u(t)*t\n",
    "\n",
    "plt.figure(2)\n",
    "plt.plot(t,u0, label='u(t)*t')\n",
    "plt.legend(loc=0)\n",
    "plt.xlabel('t (s)')\n",
    "plt.legend(loc=0)\n",
    "plt.grid()\n",
    "plt.show()\n",
    "\n"
   ]
  },
  {
   "cell_type": "code",
   "execution_count": null,
   "metadata": {},
   "outputs": [],
   "source": [
    "##3##\n",
    "a = -1.5\n",
    "b = 1.5\n",
    "t = np.arange(a, b, dt)\n",
    "u0 = u(t+1)*(t+1)\n",
    "u1 = -2*u(t)*t\n",
    "u2= u(t-1)*(t-1)\n",
    "x=u0+u1+u2\n",
    "\n",
    "# SALIDA - GRAFICA\n",
    "plt.figure(3)\n",
    "\n",
    "fig1=plt.subplot(411)\n",
    "plt.plot(t,u0, label='u(t+1)*(t+1)')\n",
    "\n",
    "fig2=plt.subplot(412)\n",
    "plt.plot(t,u1, label='-2*u(t)*t')\n",
    "plt.legend(loc=0)\n",
    "\n",
    "fig3=plt.subplot(413)\n",
    "plt.plot(t,u2,label='u(t-1)*(t-1))')\n",
    "plt.legend(loc=0)\n",
    "\n",
    "fig4=plt.subplot(414)\n",
    "plt.plot(t,x,label='Tri(t)')\n",
    "plt.legend(loc=0)\n",
    "\n",
    "plt.xlabel('t (s)')\n",
    "\n",
    "fig1.grid(True)\n",
    "fig2.grid(True)\n",
    "fig3.grid(True)\n",
    "fig4.grid(True)\n",
    "\n",
    "\n"
   ]
  },
  {
   "cell_type": "markdown",
   "metadata": {},
   "source": [
    "## Operaciones básicas"
   ]
  },
  {
   "cell_type": "markdown",
   "metadata": {},
   "source": [
    "Señal Original"
   ]
  },
  {
   "cell_type": "code",
   "execution_count": null,
   "metadata": {},
   "outputs": [],
   "source": [
    "a = -10\n",
    "b = 10\n",
    "dt = 0.01\n",
    "T = 2\n",
    "t = np.arange(a, b, dt)\n",
    "x1 = np.exp(-t)*u(t)"
   ]
  },
  {
   "cell_type": "code",
   "execution_count": null,
   "metadata": {},
   "outputs": [],
   "source": [
    "\n",
    "\n",
    "\n",
    "# señales desplazadas en tiempo\n",
    "u1 = u(t-T)\n",
    "u2 = u(t+T)\n",
    "\n",
    "\n",
    "x2 = np.exp(-(t-T))*u1\n",
    "x3 = np.exp(-(t+T))*u2\n",
    "\n",
    "\n",
    "plt.figure()\n",
    "plt.subplot(121)\n",
    "plt.plot(t,x1,label='u(t)*e(-t)')\n",
    "plt.legend(loc=1)\n",
    "plt.subplot(122)\n",
    "#plt.plot(t,x1,label='u(t-T)*e(-t)')\n",
    "plt.plot(t,x2,label='u(t-T)*e(-t)')\n",
    "plt.plot(t,x3,label='u(t+T)*e(-t)')\n",
    "plt.legend(loc=1)\n",
    "\n",
    "\n",
    "\n"
   ]
  },
  {
   "cell_type": "markdown",
   "metadata": {},
   "source": [
    "Señales escaladas en tiempo"
   ]
  },
  {
   "cell_type": "code",
   "execution_count": null,
   "metadata": {},
   "outputs": [],
   "source": [
    "\n",
    "u0 = u(t-0)\n",
    "u1 = u(t/2)\n",
    "u2 = u(2*t)\n",
    "x1 = np.exp(-t)*u0\n",
    "x2 = np.exp(-t/2)*u1\n",
    "x3 = np.exp(-t*2)*u2\n",
    "plt.figure()\n",
    "plt.plot(t,x1, label='x(-t)')\n",
    "plt.plot(t,x2, label='phi(t)=x(-t/2)')\n",
    "plt.plot(t,x3,label='phi(t)=x(-2t)')\n",
    "\n",
    "plt.xlabel('t (s)')\n",
    "plt.ylabel('x(t)u(t)')\n",
    "plt.legend(loc=0)\n",
    "plt.margins(dt)\n",
    "plt.grid()\n",
    "plt.show()"
   ]
  },
  {
   "cell_type": "code",
   "execution_count": null,
   "metadata": {},
   "outputs": [],
   "source": [
    "#Señales invertidas en el tiempo\n",
    "u0 = u(-(t-0))\n",
    "u1 = u(-(t/2))\n",
    "u2 = u(-(2*t))\n",
    "x1 = np.exp(-(-t))*u0\n",
    "x2 = np.exp(-(-t/2))*u1\n",
    "x3 = np.exp(-(-t*2))*u2\n",
    "\n",
    "\n",
    "# SALIDA - GRAFICA\n",
    "plt.figure()\n",
    "plt.plot(t,x1, label='x(-t)')\n",
    "plt.plot(t,x2, label='phi(t)=x(-t/2)')\n",
    "plt.plot(t,x3,label='phi(t)=x(-2t)')\n",
    "\n",
    "plt.xlabel('t (s)')\n",
    "plt.ylabel('x(t)u(t)')\n",
    "plt.legend(loc=0)\n",
    "plt.margins(dt)\n",
    "plt.grid()\n",
    "plt.show()"
   ]
  }
 ],
 "metadata": {
  "kernelspec": {
   "display_name": "Python 3",
   "language": "python",
   "name": "python3"
  },
  "language_info": {
   "codemirror_mode": {
    "name": "ipython",
    "version": 3
   },
   "file_extension": ".py",
   "mimetype": "text/x-python",
   "name": "python",
   "nbconvert_exporter": "python",
   "pygments_lexer": "ipython3",
   "version": "3.8.3"
  }
 },
 "nbformat": 4,
 "nbformat_minor": 4
}
